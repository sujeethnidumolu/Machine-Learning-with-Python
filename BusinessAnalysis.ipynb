{
 "cells": [
  {
   "cell_type": "markdown",
   "metadata": {},
   "source": [
    "<h1><font color=#000066\t> Advanced Systems Project: Data Analysis on YELP application reviews. </font></h1>\n",
    "\n",
    "<br/><i>Analysis performed by: Sujeeth Nidumolu \n",
    "<br>Student ID: 700372902</br>\n",
    "<br>Under the supervision of Dr. Someswar Kesh</br>\n",
    "<br>Term: Fall-2018</br>\n",
    "<br>Computer Information Systems - University of Central Missouri</br></i>\n",
    "\n",
    "<body><br/>Yelp is a trending application designed for the users to publish and read the reviews of local businesses such as restaurants, saloons, automobiles workshops etc. Also, it provides online reservations through Yelp reservations. With the broad range online services generating huge data day to day. \n",
    "The goal is to analyze this unorganized data, design a system to generate insights from the Yelp data which could help the entrepreneurs to study the progress of the business and take wise decisions towards betterment of the business. With the Yelp’s data, the primary task is to derive insights from various reviews from customers, data being acquired from various places across USA.\n",
    "    \n",
    "<br/><br/>Taking the dataset of \"yelp_business\", we will determine the top 50 reviewed businesses. Firstly, we need to import the required packages to perform the analysis.</body>"
   ]
  },
  {
   "cell_type": "code",
   "execution_count": 1,
   "metadata": {},
   "outputs": [],
   "source": [
    "import pandas as pd\n",
    "import matplotlib.pyplot as plt\n",
    "import seaborn as sns\n",
    "import numpy as np\n",
    "import numpy.random as nr\n",
    "import math\n",
    "\n",
    "%matplotlib inline"
   ]
  },
  {
   "cell_type": "markdown",
   "metadata": {},
   "source": [
    "The cell below reads the yelp_business dataset and feeds the columns into a dataframe."
   ]
  },
  {
   "cell_type": "code",
   "execution_count": 2,
   "metadata": {},
   "outputs": [],
   "source": [
    "business = pd.read_csv('yelp_business.csv')#Reads the business data\n",
    "businessDataFrame = pd.DataFrame(business) #Stores the data into a dataframe"
   ]
  },
  {
   "cell_type": "markdown",
   "metadata": {},
   "source": [
    "The below cell prints the number of rows and columns in the DataFrame along with it, displaying the top 5 rows of the data for our analysis."
   ]
  },
  {
   "cell_type": "code",
   "execution_count": 3,
   "metadata": {},
   "outputs": [
    {
     "name": "stdout",
     "output_type": "stream",
     "text": [
      "(174567, 13)\n"
     ]
    },
    {
     "data": {
      "text/html": [
       "<div>\n",
       "<style scoped>\n",
       "    .dataframe tbody tr th:only-of-type {\n",
       "        vertical-align: middle;\n",
       "    }\n",
       "\n",
       "    .dataframe tbody tr th {\n",
       "        vertical-align: top;\n",
       "    }\n",
       "\n",
       "    .dataframe thead th {\n",
       "        text-align: right;\n",
       "    }\n",
       "</style>\n",
       "<table border=\"1\" class=\"dataframe\">\n",
       "  <thead>\n",
       "    <tr style=\"text-align: right;\">\n",
       "      <th></th>\n",
       "      <th>business_id</th>\n",
       "      <th>name</th>\n",
       "      <th>neighborhood</th>\n",
       "      <th>address</th>\n",
       "      <th>city</th>\n",
       "      <th>state</th>\n",
       "      <th>postal_code</th>\n",
       "      <th>latitude</th>\n",
       "      <th>longitude</th>\n",
       "      <th>stars</th>\n",
       "      <th>review_count</th>\n",
       "      <th>is_open</th>\n",
       "      <th>categories</th>\n",
       "    </tr>\n",
       "  </thead>\n",
       "  <tbody>\n",
       "    <tr>\n",
       "      <th>0</th>\n",
       "      <td>FYWN1wneV18bWNgQjJ2GNg</td>\n",
       "      <td>\"Dental by Design\"</td>\n",
       "      <td>NaN</td>\n",
       "      <td>\"4855 E Warner Rd, Ste B9\"</td>\n",
       "      <td>Ahwatukee</td>\n",
       "      <td>AZ</td>\n",
       "      <td>85044</td>\n",
       "      <td>33.330690</td>\n",
       "      <td>-111.978599</td>\n",
       "      <td>4.0</td>\n",
       "      <td>22</td>\n",
       "      <td>1</td>\n",
       "      <td>Dentists;General Dentistry;Health &amp; Medical;Or...</td>\n",
       "    </tr>\n",
       "    <tr>\n",
       "      <th>1</th>\n",
       "      <td>He-G7vWjzVUysIKrfNbPUQ</td>\n",
       "      <td>\"Stephen Szabo Salon\"</td>\n",
       "      <td>NaN</td>\n",
       "      <td>\"3101 Washington Rd\"</td>\n",
       "      <td>McMurray</td>\n",
       "      <td>PA</td>\n",
       "      <td>15317</td>\n",
       "      <td>40.291685</td>\n",
       "      <td>-80.104900</td>\n",
       "      <td>3.0</td>\n",
       "      <td>11</td>\n",
       "      <td>1</td>\n",
       "      <td>Hair Stylists;Hair Salons;Men's Hair Salons;Bl...</td>\n",
       "    </tr>\n",
       "    <tr>\n",
       "      <th>2</th>\n",
       "      <td>KQPW8lFf1y5BT2MxiSZ3QA</td>\n",
       "      <td>\"Western Motor Vehicle\"</td>\n",
       "      <td>NaN</td>\n",
       "      <td>\"6025 N 27th Ave, Ste 1\"</td>\n",
       "      <td>Phoenix</td>\n",
       "      <td>AZ</td>\n",
       "      <td>85017</td>\n",
       "      <td>33.524903</td>\n",
       "      <td>-112.115310</td>\n",
       "      <td>1.5</td>\n",
       "      <td>18</td>\n",
       "      <td>1</td>\n",
       "      <td>Departments of Motor Vehicles;Public Services ...</td>\n",
       "    </tr>\n",
       "    <tr>\n",
       "      <th>3</th>\n",
       "      <td>8DShNS-LuFqpEWIp0HxijA</td>\n",
       "      <td>\"Sports Authority\"</td>\n",
       "      <td>NaN</td>\n",
       "      <td>\"5000 Arizona Mills Cr, Ste 435\"</td>\n",
       "      <td>Tempe</td>\n",
       "      <td>AZ</td>\n",
       "      <td>85282</td>\n",
       "      <td>33.383147</td>\n",
       "      <td>-111.964725</td>\n",
       "      <td>3.0</td>\n",
       "      <td>9</td>\n",
       "      <td>0</td>\n",
       "      <td>Sporting Goods;Shopping</td>\n",
       "    </tr>\n",
       "    <tr>\n",
       "      <th>4</th>\n",
       "      <td>PfOCPjBrlQAnz__NXj9h_w</td>\n",
       "      <td>\"Brick House Tavern + Tap\"</td>\n",
       "      <td>NaN</td>\n",
       "      <td>\"581 Howe Ave\"</td>\n",
       "      <td>Cuyahoga Falls</td>\n",
       "      <td>OH</td>\n",
       "      <td>44221</td>\n",
       "      <td>41.119535</td>\n",
       "      <td>-81.475690</td>\n",
       "      <td>3.5</td>\n",
       "      <td>116</td>\n",
       "      <td>1</td>\n",
       "      <td>American (New);Nightlife;Bars;Sandwiches;Ameri...</td>\n",
       "    </tr>\n",
       "  </tbody>\n",
       "</table>\n",
       "</div>"
      ],
      "text/plain": [
       "              business_id                        name neighborhood  \\\n",
       "0  FYWN1wneV18bWNgQjJ2GNg          \"Dental by Design\"          NaN   \n",
       "1  He-G7vWjzVUysIKrfNbPUQ       \"Stephen Szabo Salon\"          NaN   \n",
       "2  KQPW8lFf1y5BT2MxiSZ3QA     \"Western Motor Vehicle\"          NaN   \n",
       "3  8DShNS-LuFqpEWIp0HxijA          \"Sports Authority\"          NaN   \n",
       "4  PfOCPjBrlQAnz__NXj9h_w  \"Brick House Tavern + Tap\"          NaN   \n",
       "\n",
       "                            address            city state postal_code  \\\n",
       "0        \"4855 E Warner Rd, Ste B9\"       Ahwatukee    AZ       85044   \n",
       "1              \"3101 Washington Rd\"        McMurray    PA       15317   \n",
       "2          \"6025 N 27th Ave, Ste 1\"         Phoenix    AZ       85017   \n",
       "3  \"5000 Arizona Mills Cr, Ste 435\"           Tempe    AZ       85282   \n",
       "4                    \"581 Howe Ave\"  Cuyahoga Falls    OH       44221   \n",
       "\n",
       "    latitude   longitude  stars  review_count  is_open  \\\n",
       "0  33.330690 -111.978599    4.0            22        1   \n",
       "1  40.291685  -80.104900    3.0            11        1   \n",
       "2  33.524903 -112.115310    1.5            18        1   \n",
       "3  33.383147 -111.964725    3.0             9        0   \n",
       "4  41.119535  -81.475690    3.5           116        1   \n",
       "\n",
       "                                          categories  \n",
       "0  Dentists;General Dentistry;Health & Medical;Or...  \n",
       "1  Hair Stylists;Hair Salons;Men's Hair Salons;Bl...  \n",
       "2  Departments of Motor Vehicles;Public Services ...  \n",
       "3                            Sporting Goods;Shopping  \n",
       "4  American (New);Nightlife;Bars;Sandwiches;Ameri...  "
      ]
     },
     "execution_count": 3,
     "metadata": {},
     "output_type": "execute_result"
    }
   ],
   "source": [
    "print(businessDataFrame.shape)#Prints the number of rows and columns in a dataframe\n",
    "businessDataFrame.head(5)#Prints the top 5 rows of the dataframe"
   ]
  },
  {
   "cell_type": "code",
   "execution_count": 4,
   "metadata": {},
   "outputs": [
    {
     "data": {
      "text/plain": [
       "Index(['business_id', 'name', 'neighborhood', 'address', 'city', 'state',\n",
       "       'postal_code', 'latitude', 'longitude', 'stars', 'review_count',\n",
       "       'is_open', 'categories'],\n",
       "      dtype='object')"
      ]
     },
     "execution_count": 4,
     "metadata": {},
     "output_type": "execute_result"
    }
   ],
   "source": [
    "businessDataFrame.columns #Prints the columns of the dataset"
   ]
  },
  {
   "cell_type": "code",
   "execution_count": 5,
   "metadata": {},
   "outputs": [
    {
     "data": {
      "text/plain": [
       "business_id      object\n",
       "name             object\n",
       "neighborhood     object\n",
       "address          object\n",
       "city             object\n",
       "state            object\n",
       "postal_code      object\n",
       "latitude        float64\n",
       "longitude       float64\n",
       "stars           float64\n",
       "review_count      int64\n",
       "is_open           int64\n",
       "categories       object\n",
       "dtype: object"
      ]
     },
     "execution_count": 5,
     "metadata": {},
     "output_type": "execute_result"
    }
   ],
   "source": [
    "businessDataFrame.dtypes #Prints the datatypes of the above columns"
   ]
  },
  {
   "cell_type": "markdown",
   "metadata": {},
   "source": [
    "We need checkins dataset to fetch the checkins recorded, the cell below reads the checkins dataset and stores the records into checkins dataframe."
   ]
  },
  {
   "cell_type": "code",
   "execution_count": 6,
   "metadata": {},
   "outputs": [
    {
     "data": {
      "text/plain": [
       "Index(['business_id', 'weekday', 'hour', 'checkins'], dtype='object')"
      ]
     },
     "execution_count": 6,
     "metadata": {},
     "output_type": "execute_result"
    }
   ],
   "source": [
    "checkin = pd.read_csv('yelp_checkin.csv')\n",
    "checkinDataFrame = pd.DataFrame(checkin)\n",
    "checkinDataFrame.columns #Displays the names of the columns in the dataset of checkins"
   ]
  },
  {
   "cell_type": "code",
   "execution_count": 7,
   "metadata": {},
   "outputs": [
    {
     "data": {
      "text/html": [
       "<div>\n",
       "<style scoped>\n",
       "    .dataframe tbody tr th:only-of-type {\n",
       "        vertical-align: middle;\n",
       "    }\n",
       "\n",
       "    .dataframe tbody tr th {\n",
       "        vertical-align: top;\n",
       "    }\n",
       "\n",
       "    .dataframe thead th {\n",
       "        text-align: right;\n",
       "    }\n",
       "</style>\n",
       "<table border=\"1\" class=\"dataframe\">\n",
       "  <thead>\n",
       "    <tr style=\"text-align: right;\">\n",
       "      <th></th>\n",
       "      <th>business_id</th>\n",
       "      <th>weekday</th>\n",
       "      <th>hour</th>\n",
       "      <th>checkins</th>\n",
       "    </tr>\n",
       "  </thead>\n",
       "  <tbody>\n",
       "    <tr>\n",
       "      <th>0</th>\n",
       "      <td>3Mc-LxcqeguOXOVT_2ZtCg</td>\n",
       "      <td>Tue</td>\n",
       "      <td>0:00</td>\n",
       "      <td>12</td>\n",
       "    </tr>\n",
       "    <tr>\n",
       "      <th>1</th>\n",
       "      <td>SVFx6_epO22bZTZnKwlX7g</td>\n",
       "      <td>Wed</td>\n",
       "      <td>0:00</td>\n",
       "      <td>4</td>\n",
       "    </tr>\n",
       "    <tr>\n",
       "      <th>2</th>\n",
       "      <td>vW9aLivd4-IorAfStzsHww</td>\n",
       "      <td>Tue</td>\n",
       "      <td>14:00</td>\n",
       "      <td>1</td>\n",
       "    </tr>\n",
       "    <tr>\n",
       "      <th>3</th>\n",
       "      <td>tEzxhauTQddACyqdJ0OPEQ</td>\n",
       "      <td>Fri</td>\n",
       "      <td>19:00</td>\n",
       "      <td>1</td>\n",
       "    </tr>\n",
       "    <tr>\n",
       "      <th>4</th>\n",
       "      <td>CEyZU32P-vtMhgqRCaXzMA</td>\n",
       "      <td>Tue</td>\n",
       "      <td>17:00</td>\n",
       "      <td>1</td>\n",
       "    </tr>\n",
       "  </tbody>\n",
       "</table>\n",
       "</div>"
      ],
      "text/plain": [
       "              business_id weekday   hour  checkins\n",
       "0  3Mc-LxcqeguOXOVT_2ZtCg     Tue   0:00        12\n",
       "1  SVFx6_epO22bZTZnKwlX7g     Wed   0:00         4\n",
       "2  vW9aLivd4-IorAfStzsHww     Tue  14:00         1\n",
       "3  tEzxhauTQddACyqdJ0OPEQ     Fri  19:00         1\n",
       "4  CEyZU32P-vtMhgqRCaXzMA     Tue  17:00         1"
      ]
     },
     "execution_count": 7,
     "metadata": {},
     "output_type": "execute_result"
    }
   ],
   "source": [
    "checkinDataFrame.head(5)"
   ]
  },
  {
   "cell_type": "code",
   "execution_count": 8,
   "metadata": {},
   "outputs": [
    {
     "data": {
      "text/plain": [
       "(3911218, 4)"
      ]
     },
     "execution_count": 8,
     "metadata": {},
     "output_type": "execute_result"
    }
   ],
   "source": [
    "checkinDataFrame.shape #Displays number of rows and columns in the dataset"
   ]
  },
  {
   "cell_type": "code",
   "execution_count": 9,
   "metadata": {},
   "outputs": [],
   "source": [
    "businessHours = pd.read_csv('yelp_business_hours.csv')\n",
    "businessHoursDataFrame = pd.DataFrame(businessHours)"
   ]
  },
  {
   "cell_type": "code",
   "execution_count": 10,
   "metadata": {},
   "outputs": [
    {
     "data": {
      "text/html": [
       "<div>\n",
       "<style scoped>\n",
       "    .dataframe tbody tr th:only-of-type {\n",
       "        vertical-align: middle;\n",
       "    }\n",
       "\n",
       "    .dataframe tbody tr th {\n",
       "        vertical-align: top;\n",
       "    }\n",
       "\n",
       "    .dataframe thead th {\n",
       "        text-align: right;\n",
       "    }\n",
       "</style>\n",
       "<table border=\"1\" class=\"dataframe\">\n",
       "  <thead>\n",
       "    <tr style=\"text-align: right;\">\n",
       "      <th></th>\n",
       "      <th>business_id</th>\n",
       "      <th>monday</th>\n",
       "      <th>tuesday</th>\n",
       "      <th>wednesday</th>\n",
       "      <th>thursday</th>\n",
       "      <th>friday</th>\n",
       "      <th>saturday</th>\n",
       "      <th>sunday</th>\n",
       "    </tr>\n",
       "  </thead>\n",
       "  <tbody>\n",
       "    <tr>\n",
       "      <th>0</th>\n",
       "      <td>FYWN1wneV18bWNgQjJ2GNg</td>\n",
       "      <td>7:30-17:0</td>\n",
       "      <td>7:30-17:0</td>\n",
       "      <td>7:30-17:0</td>\n",
       "      <td>7:30-17:0</td>\n",
       "      <td>7:30-17:0</td>\n",
       "      <td>None</td>\n",
       "      <td>None</td>\n",
       "    </tr>\n",
       "    <tr>\n",
       "      <th>1</th>\n",
       "      <td>He-G7vWjzVUysIKrfNbPUQ</td>\n",
       "      <td>9:0-20:0</td>\n",
       "      <td>9:0-20:0</td>\n",
       "      <td>9:0-20:0</td>\n",
       "      <td>9:0-20:0</td>\n",
       "      <td>9:0-16:0</td>\n",
       "      <td>8:0-16:0</td>\n",
       "      <td>None</td>\n",
       "    </tr>\n",
       "    <tr>\n",
       "      <th>2</th>\n",
       "      <td>KQPW8lFf1y5BT2MxiSZ3QA</td>\n",
       "      <td>None</td>\n",
       "      <td>None</td>\n",
       "      <td>None</td>\n",
       "      <td>None</td>\n",
       "      <td>None</td>\n",
       "      <td>None</td>\n",
       "      <td>None</td>\n",
       "    </tr>\n",
       "    <tr>\n",
       "      <th>3</th>\n",
       "      <td>8DShNS-LuFqpEWIp0HxijA</td>\n",
       "      <td>10:0-21:0</td>\n",
       "      <td>10:0-21:0</td>\n",
       "      <td>10:0-21:0</td>\n",
       "      <td>10:0-21:0</td>\n",
       "      <td>10:0-21:0</td>\n",
       "      <td>10:0-21:0</td>\n",
       "      <td>11:0-19:0</td>\n",
       "    </tr>\n",
       "    <tr>\n",
       "      <th>4</th>\n",
       "      <td>PfOCPjBrlQAnz__NXj9h_w</td>\n",
       "      <td>11:0-1:0</td>\n",
       "      <td>11:0-1:0</td>\n",
       "      <td>11:0-1:0</td>\n",
       "      <td>11:0-1:0</td>\n",
       "      <td>11:0-1:0</td>\n",
       "      <td>11:0-2:0</td>\n",
       "      <td>11:0-0:0</td>\n",
       "    </tr>\n",
       "  </tbody>\n",
       "</table>\n",
       "</div>"
      ],
      "text/plain": [
       "              business_id     monday    tuesday  wednesday   thursday  \\\n",
       "0  FYWN1wneV18bWNgQjJ2GNg  7:30-17:0  7:30-17:0  7:30-17:0  7:30-17:0   \n",
       "1  He-G7vWjzVUysIKrfNbPUQ   9:0-20:0   9:0-20:0   9:0-20:0   9:0-20:0   \n",
       "2  KQPW8lFf1y5BT2MxiSZ3QA       None       None       None       None   \n",
       "3  8DShNS-LuFqpEWIp0HxijA  10:0-21:0  10:0-21:0  10:0-21:0  10:0-21:0   \n",
       "4  PfOCPjBrlQAnz__NXj9h_w   11:0-1:0   11:0-1:0   11:0-1:0   11:0-1:0   \n",
       "\n",
       "      friday   saturday     sunday  \n",
       "0  7:30-17:0       None       None  \n",
       "1   9:0-16:0   8:0-16:0       None  \n",
       "2       None       None       None  \n",
       "3  10:0-21:0  10:0-21:0  11:0-19:0  \n",
       "4   11:0-1:0   11:0-2:0   11:0-0:0  "
      ]
     },
     "execution_count": 10,
     "metadata": {},
     "output_type": "execute_result"
    }
   ],
   "source": [
    "businessHoursDataFrame.head()"
   ]
  },
  {
   "cell_type": "code",
   "execution_count": 11,
   "metadata": {},
   "outputs": [
    {
     "data": {
      "text/plain": [
       "neighborhood    106552\n",
       "postal_code        623\n",
       "longitude            1\n",
       "latitude             1\n",
       "state                1\n",
       "city                 1\n",
       "categories           0\n",
       "is_open              0\n",
       "review_count         0\n",
       "stars                0\n",
       "address              0\n",
       "name                 0\n",
       "business_id          0\n",
       "dtype: int64"
      ]
     },
     "execution_count": 11,
     "metadata": {},
     "output_type": "execute_result"
    }
   ],
   "source": [
    "#Checking for null or empty values in the business data:\n",
    "business.isnull().sum().sort_values(ascending=False)"
   ]
  },
  {
   "cell_type": "markdown",
   "metadata": {},
   "source": [
    "The above figures state that there are several missing values in 'Neighborhood'=106552."
   ]
  },
  {
   "cell_type": "markdown",
   "metadata": {},
   "source": [
    "Now, let us check if there aren't any duplicate business ID's."
   ]
  },
  {
   "cell_type": "code",
   "execution_count": 12,
   "metadata": {},
   "outputs": [
    {
     "data": {
      "text/plain": [
       "True"
      ]
     },
     "execution_count": 12,
     "metadata": {},
     "output_type": "execute_result"
    }
   ],
   "source": [
    "business.business_id.is_unique"
   ]
  },
  {
   "cell_type": "markdown",
   "metadata": {},
   "source": [
    "Yes, all business id's are unique."
   ]
  },
  {
   "cell_type": "code",
   "execution_count": 13,
   "metadata": {},
   "outputs": [
    {
     "data": {
      "text/plain": [
       "Las Vegas                      26775\n",
       "Phoenix                        17213\n",
       "Toronto                        17206\n",
       "Charlotte                       8553\n",
       "Scottsdale                      8228\n",
       "Pittsburgh                      6355\n",
       "Mesa                            5760\n",
       "Montréal                        5709\n",
       "Henderson                       4465\n",
       "Tempe                           4263\n",
       "Chandler                        3994\n",
       "Edinburgh                       3868\n",
       "Cleveland                       3322\n",
       "Madison                         3213\n",
       "Glendale                        3206\n",
       "Gilbert                         3128\n",
       "Mississauga                     2726\n",
       "Stuttgart                       2000\n",
       "Peoria                          1706\n",
       "Markham                         1564\n",
       "North Las Vegas                 1393\n",
       "Champaign                       1195\n",
       "Scarborough                     1095\n",
       "North York                      1092\n",
       "Surprise                        1018\n",
       "Richmond Hill                    888\n",
       "Concord                          864\n",
       "Brampton                         839\n",
       "Goodyear                         772\n",
       "Vaughan                          768\n",
       "                               ...  \n",
       "Brooklyn Hts.                      1\n",
       "Cramond                            1\n",
       "The Woodlands                      1\n",
       "Monreoville                        1\n",
       "Old Town Scottsdale                1\n",
       "Oak Ridges                         1\n",
       "Ahwatukee Foothills Village        1\n",
       "Onda                               1\n",
       "South Amherst                      1\n",
       "Warrensville Hts.                  1\n",
       "Lacolle                            1\n",
       "Nellis                             1\n",
       "Las Vegass                         1\n",
       "Plieningen                         1\n",
       "Inglewood                          1\n",
       "West Toronto                       1\n",
       "Blackness                          1\n",
       "Robinson Twp.                      1\n",
       "St Leonard                         1\n",
       "N W Las Vegas                      1\n",
       "Water of Leith                     1\n",
       "Woodbridge (Vaughan)               1\n",
       "Harrisburg,                        1\n",
       "Reminderville                      1\n",
       "Rainbow Valley                     1\n",
       "Plan                               1\n",
       "Lakewood, Oh                       1\n",
       "Indian land                        1\n",
       "Scotesdale                         1\n",
       "Westworld Scottsdale               1\n",
       "Name: city, Length: 1093, dtype: int64"
      ]
     },
     "execution_count": 13,
     "metadata": {},
     "output_type": "execute_result"
    }
   ],
   "source": [
    "business.city.value_counts()"
   ]
  },
  {
   "cell_type": "markdown",
   "metadata": {},
   "source": [
    "### The top 50 reviewed business:"
   ]
  },
  {
   "cell_type": "code",
   "execution_count": 14,
   "metadata": {},
   "outputs": [
    {
     "data": {
      "text/html": [
       "<div>\n",
       "<style scoped>\n",
       "    .dataframe tbody tr th:only-of-type {\n",
       "        vertical-align: middle;\n",
       "    }\n",
       "\n",
       "    .dataframe tbody tr th {\n",
       "        vertical-align: top;\n",
       "    }\n",
       "\n",
       "    .dataframe thead th {\n",
       "        text-align: right;\n",
       "    }\n",
       "</style>\n",
       "<table border=\"1\" class=\"dataframe\">\n",
       "  <thead>\n",
       "    <tr style=\"text-align: right;\">\n",
       "      <th></th>\n",
       "      <th>name</th>\n",
       "      <th>review_count</th>\n",
       "      <th>city</th>\n",
       "      <th>stars</th>\n",
       "      <th>categories</th>\n",
       "    </tr>\n",
       "  </thead>\n",
       "  <tbody>\n",
       "    <tr>\n",
       "      <th>97944</th>\n",
       "      <td>\"Mon Ami Gabi\"</td>\n",
       "      <td>7361</td>\n",
       "      <td>Las Vegas</td>\n",
       "      <td>4.0</td>\n",
       "      <td>French;Steakhouses;Restaurants;Breakfast &amp; Brunch</td>\n",
       "    </tr>\n",
       "    <tr>\n",
       "      <th>119907</th>\n",
       "      <td>\"Bacchanal Buffet\"</td>\n",
       "      <td>7009</td>\n",
       "      <td>Las Vegas</td>\n",
       "      <td>4.0</td>\n",
       "      <td>Sandwiches;Buffets;Restaurants;Breakfast &amp; Bru...</td>\n",
       "    </tr>\n",
       "    <tr>\n",
       "      <th>69993</th>\n",
       "      <td>\"Wicked Spoon\"</td>\n",
       "      <td>5950</td>\n",
       "      <td>Las Vegas</td>\n",
       "      <td>3.5</td>\n",
       "      <td>Buffets;Breakfast &amp; Brunch;Restaurants</td>\n",
       "    </tr>\n",
       "    <tr>\n",
       "      <th>81212</th>\n",
       "      <td>\"Gordon Ramsay BurGR\"</td>\n",
       "      <td>5447</td>\n",
       "      <td>Las Vegas</td>\n",
       "      <td>4.0</td>\n",
       "      <td>American (Traditional);Burgers;Restaurants</td>\n",
       "    </tr>\n",
       "    <tr>\n",
       "      <th>139699</th>\n",
       "      <td>\"Earl of Sandwich\"</td>\n",
       "      <td>4869</td>\n",
       "      <td>Las Vegas</td>\n",
       "      <td>4.5</td>\n",
       "      <td>Caterers;Sandwiches;Restaurants;Food Delivery ...</td>\n",
       "    </tr>\n",
       "    <tr>\n",
       "      <th>19191</th>\n",
       "      <td>\"Hash House A Go Go\"</td>\n",
       "      <td>4774</td>\n",
       "      <td>Las Vegas</td>\n",
       "      <td>4.0</td>\n",
       "      <td>American (New);Restaurants;Breakfast &amp; Brunch</td>\n",
       "    </tr>\n",
       "    <tr>\n",
       "      <th>80590</th>\n",
       "      <td>\"The Buffet\"</td>\n",
       "      <td>4018</td>\n",
       "      <td>Las Vegas</td>\n",
       "      <td>3.5</td>\n",
       "      <td>Buffets;Restaurants</td>\n",
       "    </tr>\n",
       "    <tr>\n",
       "      <th>124412</th>\n",
       "      <td>\"Lotus of Siam\"</td>\n",
       "      <td>3964</td>\n",
       "      <td>Las Vegas</td>\n",
       "      <td>4.0</td>\n",
       "      <td>Car Dealers;Thai;Automotive;Seafood;Bars;Wine ...</td>\n",
       "    </tr>\n",
       "    <tr>\n",
       "      <th>21006</th>\n",
       "      <td>\"Serendipity 3\"</td>\n",
       "      <td>3910</td>\n",
       "      <td>Las Vegas</td>\n",
       "      <td>3.0</td>\n",
       "      <td>Social Clubs;Arts &amp; Entertainment;American (Tr...</td>\n",
       "    </tr>\n",
       "    <tr>\n",
       "      <th>93038</th>\n",
       "      <td>\"The Buffet at Bellagio\"</td>\n",
       "      <td>3838</td>\n",
       "      <td>Las Vegas</td>\n",
       "      <td>3.5</td>\n",
       "      <td>Buffets;Restaurants;American (New)</td>\n",
       "    </tr>\n",
       "    <tr>\n",
       "      <th>26748</th>\n",
       "      <td>\"ARIA Resort &amp; Casino\"</td>\n",
       "      <td>3794</td>\n",
       "      <td>Las Vegas</td>\n",
       "      <td>3.5</td>\n",
       "      <td>Event Planning &amp; Services;Arts &amp; Entertainment...</td>\n",
       "    </tr>\n",
       "    <tr>\n",
       "      <th>80626</th>\n",
       "      <td>\"The Cosmopolitan of Las Vegas\"</td>\n",
       "      <td>3772</td>\n",
       "      <td>Las Vegas</td>\n",
       "      <td>4.0</td>\n",
       "      <td>Hotels;Event Planning &amp; Services;Casinos;Hotel...</td>\n",
       "    </tr>\n",
       "    <tr>\n",
       "      <th>25096</th>\n",
       "      <td>\"Secret Pizza\"</td>\n",
       "      <td>3741</td>\n",
       "      <td>Las Vegas</td>\n",
       "      <td>4.0</td>\n",
       "      <td>Pizza;Restaurants</td>\n",
       "    </tr>\n",
       "    <tr>\n",
       "      <th>6670</th>\n",
       "      <td>\"Luxor Hotel and Casino Las Vegas\"</td>\n",
       "      <td>3621</td>\n",
       "      <td>Las Vegas</td>\n",
       "      <td>2.5</td>\n",
       "      <td>Event Planning &amp; Services;Arts &amp; Entertainment...</td>\n",
       "    </tr>\n",
       "    <tr>\n",
       "      <th>6782</th>\n",
       "      <td>\"Bouchon at the Venezia Tower\"</td>\n",
       "      <td>3570</td>\n",
       "      <td>Las Vegas</td>\n",
       "      <td>4.0</td>\n",
       "      <td>Breakfast &amp; Brunch;Venues &amp; Event Spaces;Event...</td>\n",
       "    </tr>\n",
       "    <tr>\n",
       "      <th>10567</th>\n",
       "      <td>\"MGM Grand Hotel\"</td>\n",
       "      <td>3444</td>\n",
       "      <td>Las Vegas</td>\n",
       "      <td>3.0</td>\n",
       "      <td>Restaurants;Arts &amp; Entertainment;Hotels;Event ...</td>\n",
       "    </tr>\n",
       "    <tr>\n",
       "      <th>169223</th>\n",
       "      <td>\"McCarran International Airport\"</td>\n",
       "      <td>3284</td>\n",
       "      <td>Las Vegas</td>\n",
       "      <td>3.5</td>\n",
       "      <td>Hotels &amp; Travel;Airports</td>\n",
       "    </tr>\n",
       "    <tr>\n",
       "      <th>170798</th>\n",
       "      <td>\"Gangnam Asian BBQ Dining\"</td>\n",
       "      <td>3262</td>\n",
       "      <td>Las Vegas</td>\n",
       "      <td>4.5</td>\n",
       "      <td>Asian Fusion;Restaurants;Barbeque;Korean;Tapas...</td>\n",
       "    </tr>\n",
       "    <tr>\n",
       "      <th>112523</th>\n",
       "      <td>\"The Venetian Las Vegas\"</td>\n",
       "      <td>3101</td>\n",
       "      <td>Las Vegas</td>\n",
       "      <td>4.0</td>\n",
       "      <td>Casinos;Hotels;Resorts;Arts &amp; Entertainment;Ev...</td>\n",
       "    </tr>\n",
       "    <tr>\n",
       "      <th>116002</th>\n",
       "      <td>\"Bachi Burger\"</td>\n",
       "      <td>3065</td>\n",
       "      <td>Las Vegas</td>\n",
       "      <td>4.0</td>\n",
       "      <td>American (New);Bars;Beer;Wine &amp; Spirits;Restau...</td>\n",
       "    </tr>\n",
       "    <tr>\n",
       "      <th>50087</th>\n",
       "      <td>\"Hash House A Go Go\"</td>\n",
       "      <td>3050</td>\n",
       "      <td>Las Vegas</td>\n",
       "      <td>4.0</td>\n",
       "      <td>Restaurants;Breakfast &amp; Brunch;American (New)</td>\n",
       "    </tr>\n",
       "    <tr>\n",
       "      <th>43069</th>\n",
       "      <td>\"Mesa Grill\"</td>\n",
       "      <td>3012</td>\n",
       "      <td>Las Vegas</td>\n",
       "      <td>4.0</td>\n",
       "      <td>New Mexican Cuisine;Mexican;Restaurants;Southe...</td>\n",
       "    </tr>\n",
       "    <tr>\n",
       "      <th>106267</th>\n",
       "      <td>\"Flamingo Las Vegas Hotel &amp; Casino\"</td>\n",
       "      <td>2938</td>\n",
       "      <td>Las Vegas</td>\n",
       "      <td>2.5</td>\n",
       "      <td>Arts &amp; Entertainment;Event Planning &amp; Services...</td>\n",
       "    </tr>\n",
       "    <tr>\n",
       "      <th>138776</th>\n",
       "      <td>\"Gordon Ramsay Steak\"</td>\n",
       "      <td>2935</td>\n",
       "      <td>Las Vegas</td>\n",
       "      <td>4.0</td>\n",
       "      <td>Salad;Restaurants;Soup;American (New);Steakhouses</td>\n",
       "    </tr>\n",
       "    <tr>\n",
       "      <th>60845</th>\n",
       "      <td>\"XS Nightclub\"</td>\n",
       "      <td>2884</td>\n",
       "      <td>Las Vegas</td>\n",
       "      <td>4.0</td>\n",
       "      <td>Nightlife;Dance Clubs</td>\n",
       "    </tr>\n",
       "    <tr>\n",
       "      <th>126918</th>\n",
       "      <td>\"Bellagio Hotel\"</td>\n",
       "      <td>2780</td>\n",
       "      <td>Las Vegas</td>\n",
       "      <td>3.5</td>\n",
       "      <td>Hotels;Arts &amp; Entertainment;Hotels &amp; Travel;Ev...</td>\n",
       "    </tr>\n",
       "    <tr>\n",
       "      <th>124334</th>\n",
       "      <td>\"Holsteins Shakes and Buns\"</td>\n",
       "      <td>2771</td>\n",
       "      <td>Las Vegas</td>\n",
       "      <td>4.0</td>\n",
       "      <td>American (Traditional);Burgers;Bars;Restaurant...</td>\n",
       "    </tr>\n",
       "    <tr>\n",
       "      <th>24586</th>\n",
       "      <td>\"The Peppermill Restaurant &amp; Fireside Lounge\"</td>\n",
       "      <td>2703</td>\n",
       "      <td>Las Vegas</td>\n",
       "      <td>4.0</td>\n",
       "      <td>Bars;American (Traditional);Lounges;Nightlife;...</td>\n",
       "    </tr>\n",
       "    <tr>\n",
       "      <th>69105</th>\n",
       "      <td>\"Mandalay Bay Resort &amp; Casino\"</td>\n",
       "      <td>2687</td>\n",
       "      <td>Las Vegas</td>\n",
       "      <td>3.5</td>\n",
       "      <td>Casinos;Hotels;Hotels &amp; Travel;Resorts;Arts &amp; ...</td>\n",
       "    </tr>\n",
       "    <tr>\n",
       "      <th>8709</th>\n",
       "      <td>\"Planet Hollywood Las Vegas Resort &amp; Casino\"</td>\n",
       "      <td>2681</td>\n",
       "      <td>Las Vegas</td>\n",
       "      <td>3.0</td>\n",
       "      <td>Hotels;Casinos;Event Planning &amp; Services;Hotel...</td>\n",
       "    </tr>\n",
       "    <tr>\n",
       "      <th>36120</th>\n",
       "      <td>\"Guy Fieri's Vegas Kitchen &amp; Bar\"</td>\n",
       "      <td>2674</td>\n",
       "      <td>Las Vegas</td>\n",
       "      <td>3.5</td>\n",
       "      <td>American (New);Burgers;Restaurants;Pubs;Nightl...</td>\n",
       "    </tr>\n",
       "    <tr>\n",
       "      <th>128975</th>\n",
       "      <td>\"Egg &amp; I\"</td>\n",
       "      <td>2595</td>\n",
       "      <td>Las Vegas</td>\n",
       "      <td>4.5</td>\n",
       "      <td>Restaurants;Burgers;American (Traditional);San...</td>\n",
       "    </tr>\n",
       "    <tr>\n",
       "      <th>166920</th>\n",
       "      <td>\"Pho Kim Long\"</td>\n",
       "      <td>2594</td>\n",
       "      <td>Las Vegas</td>\n",
       "      <td>3.5</td>\n",
       "      <td>Vietnamese;Chinese;Restaurants</td>\n",
       "    </tr>\n",
       "    <tr>\n",
       "      <th>27862</th>\n",
       "      <td>\"Shake Shack\"</td>\n",
       "      <td>2549</td>\n",
       "      <td>Las Vegas</td>\n",
       "      <td>4.0</td>\n",
       "      <td>Burgers;American (New);Restaurants</td>\n",
       "    </tr>\n",
       "    <tr>\n",
       "      <th>2803</th>\n",
       "      <td>\"Monte Carlo Hotel And Casino\"</td>\n",
       "      <td>2507</td>\n",
       "      <td>Las Vegas</td>\n",
       "      <td>2.5</td>\n",
       "      <td>Resorts;Hotels &amp; Travel;Event Planning &amp; Servi...</td>\n",
       "    </tr>\n",
       "    <tr>\n",
       "      <th>800</th>\n",
       "      <td>\"Excalibur Hotel\"</td>\n",
       "      <td>2504</td>\n",
       "      <td>Las Vegas</td>\n",
       "      <td>2.5</td>\n",
       "      <td>Hotels;Event Planning &amp; Services;Casinos;Resor...</td>\n",
       "    </tr>\n",
       "    <tr>\n",
       "      <th>118712</th>\n",
       "      <td>\"Gordon Ramsay Pub &amp; Grill\"</td>\n",
       "      <td>2502</td>\n",
       "      <td>Las Vegas</td>\n",
       "      <td>3.5</td>\n",
       "      <td>Gastropubs;Fish &amp; Chips;Nightlife;Restaurants;...</td>\n",
       "    </tr>\n",
       "    <tr>\n",
       "      <th>108433</th>\n",
       "      <td>\"Grand Lux Cafe\"</td>\n",
       "      <td>2490</td>\n",
       "      <td>Las Vegas</td>\n",
       "      <td>4.0</td>\n",
       "      <td>Desserts;American (New);Sandwiches;American (T...</td>\n",
       "    </tr>\n",
       "    <tr>\n",
       "      <th>100272</th>\n",
       "      <td>\"Tacos El Gordo\"</td>\n",
       "      <td>2448</td>\n",
       "      <td>Las Vegas</td>\n",
       "      <td>4.0</td>\n",
       "      <td>Mexican;Tacos;Restaurants</td>\n",
       "    </tr>\n",
       "    <tr>\n",
       "      <th>154617</th>\n",
       "      <td>\"Wynn Las Vegas\"</td>\n",
       "      <td>2441</td>\n",
       "      <td>Las Vegas</td>\n",
       "      <td>4.0</td>\n",
       "      <td>Casinos;Event Planning &amp; Services;Nightlife;Re...</td>\n",
       "    </tr>\n",
       "    <tr>\n",
       "      <th>161630</th>\n",
       "      <td>\"Burger Bar\"</td>\n",
       "      <td>2440</td>\n",
       "      <td>Las Vegas</td>\n",
       "      <td>4.0</td>\n",
       "      <td>Bars;American (Traditional);Burgers;American (...</td>\n",
       "    </tr>\n",
       "    <tr>\n",
       "      <th>155142</th>\n",
       "      <td>\"Caesars Palace Las Vegas Hotel &amp; Casino\"</td>\n",
       "      <td>2393</td>\n",
       "      <td>Las Vegas</td>\n",
       "      <td>3.0</td>\n",
       "      <td>Casinos;Arts &amp; Entertainment;Hotels &amp; Travel;H...</td>\n",
       "    </tr>\n",
       "    <tr>\n",
       "      <th>73007</th>\n",
       "      <td>\"Yardbird Southern Table &amp; Bar\"</td>\n",
       "      <td>2360</td>\n",
       "      <td>Las Vegas</td>\n",
       "      <td>4.5</td>\n",
       "      <td>Restaurants;American (New);Southern</td>\n",
       "    </tr>\n",
       "    <tr>\n",
       "      <th>5068</th>\n",
       "      <td>\"Giada\"</td>\n",
       "      <td>2349</td>\n",
       "      <td>Las Vegas</td>\n",
       "      <td>3.5</td>\n",
       "      <td>Italian;Restaurants</td>\n",
       "    </tr>\n",
       "    <tr>\n",
       "      <th>89974</th>\n",
       "      <td>\"Rollin Smoke Barbeque\"</td>\n",
       "      <td>2320</td>\n",
       "      <td>Las Vegas</td>\n",
       "      <td>4.5</td>\n",
       "      <td>Restaurants;Soul Food;Burgers;Barbeque</td>\n",
       "    </tr>\n",
       "    <tr>\n",
       "      <th>13125</th>\n",
       "      <td>\"Vdara Hotel\"</td>\n",
       "      <td>2315</td>\n",
       "      <td>Las Vegas</td>\n",
       "      <td>4.0</td>\n",
       "      <td>Beauty &amp; Spas;Hotels;Resorts;Hotels &amp; Travel;E...</td>\n",
       "    </tr>\n",
       "    <tr>\n",
       "      <th>20329</th>\n",
       "      <td>\"Monta Ramen\"</td>\n",
       "      <td>2291</td>\n",
       "      <td>Las Vegas</td>\n",
       "      <td>4.0</td>\n",
       "      <td>Restaurants;Noodles;Ramen;Japanese</td>\n",
       "    </tr>\n",
       "    <tr>\n",
       "      <th>73708</th>\n",
       "      <td>\"The Palazzo Las Vegas\"</td>\n",
       "      <td>2248</td>\n",
       "      <td>Las Vegas</td>\n",
       "      <td>4.0</td>\n",
       "      <td>Event Planning &amp; Services;Venues &amp; Event Space...</td>\n",
       "    </tr>\n",
       "    <tr>\n",
       "      <th>102148</th>\n",
       "      <td>\"Treasure Island\"</td>\n",
       "      <td>2237</td>\n",
       "      <td>Las Vegas</td>\n",
       "      <td>3.0</td>\n",
       "      <td>Arts &amp; Entertainment;Hotels;Casinos;Hotels &amp; T...</td>\n",
       "    </tr>\n",
       "    <tr>\n",
       "      <th>4137</th>\n",
       "      <td>\"Phoenix Sky Harbor International Airport\"</td>\n",
       "      <td>2215</td>\n",
       "      <td>Phoenix</td>\n",
       "      <td>3.0</td>\n",
       "      <td>Hotels &amp; Travel;Airports</td>\n",
       "    </tr>\n",
       "  </tbody>\n",
       "</table>\n",
       "</div>"
      ],
      "text/plain": [
       "                                                 name  review_count  \\\n",
       "97944                                  \"Mon Ami Gabi\"          7361   \n",
       "119907                             \"Bacchanal Buffet\"          7009   \n",
       "69993                                  \"Wicked Spoon\"          5950   \n",
       "81212                           \"Gordon Ramsay BurGR\"          5447   \n",
       "139699                             \"Earl of Sandwich\"          4869   \n",
       "19191                            \"Hash House A Go Go\"          4774   \n",
       "80590                                    \"The Buffet\"          4018   \n",
       "124412                                \"Lotus of Siam\"          3964   \n",
       "21006                                 \"Serendipity 3\"          3910   \n",
       "93038                        \"The Buffet at Bellagio\"          3838   \n",
       "26748                          \"ARIA Resort & Casino\"          3794   \n",
       "80626                 \"The Cosmopolitan of Las Vegas\"          3772   \n",
       "25096                                  \"Secret Pizza\"          3741   \n",
       "6670               \"Luxor Hotel and Casino Las Vegas\"          3621   \n",
       "6782                   \"Bouchon at the Venezia Tower\"          3570   \n",
       "10567                               \"MGM Grand Hotel\"          3444   \n",
       "169223               \"McCarran International Airport\"          3284   \n",
       "170798                     \"Gangnam Asian BBQ Dining\"          3262   \n",
       "112523                       \"The Venetian Las Vegas\"          3101   \n",
       "116002                                 \"Bachi Burger\"          3065   \n",
       "50087                            \"Hash House A Go Go\"          3050   \n",
       "43069                                    \"Mesa Grill\"          3012   \n",
       "106267            \"Flamingo Las Vegas Hotel & Casino\"          2938   \n",
       "138776                          \"Gordon Ramsay Steak\"          2935   \n",
       "60845                                  \"XS Nightclub\"          2884   \n",
       "126918                               \"Bellagio Hotel\"          2780   \n",
       "124334                    \"Holsteins Shakes and Buns\"          2771   \n",
       "24586   \"The Peppermill Restaurant & Fireside Lounge\"          2703   \n",
       "69105                  \"Mandalay Bay Resort & Casino\"          2687   \n",
       "8709     \"Planet Hollywood Las Vegas Resort & Casino\"          2681   \n",
       "36120               \"Guy Fieri's Vegas Kitchen & Bar\"          2674   \n",
       "128975                                      \"Egg & I\"          2595   \n",
       "166920                                 \"Pho Kim Long\"          2594   \n",
       "27862                                   \"Shake Shack\"          2549   \n",
       "2803                   \"Monte Carlo Hotel And Casino\"          2507   \n",
       "800                                 \"Excalibur Hotel\"          2504   \n",
       "118712                    \"Gordon Ramsay Pub & Grill\"          2502   \n",
       "108433                               \"Grand Lux Cafe\"          2490   \n",
       "100272                               \"Tacos El Gordo\"          2448   \n",
       "154617                               \"Wynn Las Vegas\"          2441   \n",
       "161630                                   \"Burger Bar\"          2440   \n",
       "155142      \"Caesars Palace Las Vegas Hotel & Casino\"          2393   \n",
       "73007                 \"Yardbird Southern Table & Bar\"          2360   \n",
       "5068                                          \"Giada\"          2349   \n",
       "89974                         \"Rollin Smoke Barbeque\"          2320   \n",
       "13125                                   \"Vdara Hotel\"          2315   \n",
       "20329                                   \"Monta Ramen\"          2291   \n",
       "73708                         \"The Palazzo Las Vegas\"          2248   \n",
       "102148                              \"Treasure Island\"          2237   \n",
       "4137       \"Phoenix Sky Harbor International Airport\"          2215   \n",
       "\n",
       "             city  stars                                         categories  \n",
       "97944   Las Vegas    4.0  French;Steakhouses;Restaurants;Breakfast & Brunch  \n",
       "119907  Las Vegas    4.0  Sandwiches;Buffets;Restaurants;Breakfast & Bru...  \n",
       "69993   Las Vegas    3.5             Buffets;Breakfast & Brunch;Restaurants  \n",
       "81212   Las Vegas    4.0         American (Traditional);Burgers;Restaurants  \n",
       "139699  Las Vegas    4.5  Caterers;Sandwiches;Restaurants;Food Delivery ...  \n",
       "19191   Las Vegas    4.0      American (New);Restaurants;Breakfast & Brunch  \n",
       "80590   Las Vegas    3.5                                Buffets;Restaurants  \n",
       "124412  Las Vegas    4.0  Car Dealers;Thai;Automotive;Seafood;Bars;Wine ...  \n",
       "21006   Las Vegas    3.0  Social Clubs;Arts & Entertainment;American (Tr...  \n",
       "93038   Las Vegas    3.5                 Buffets;Restaurants;American (New)  \n",
       "26748   Las Vegas    3.5  Event Planning & Services;Arts & Entertainment...  \n",
       "80626   Las Vegas    4.0  Hotels;Event Planning & Services;Casinos;Hotel...  \n",
       "25096   Las Vegas    4.0                                  Pizza;Restaurants  \n",
       "6670    Las Vegas    2.5  Event Planning & Services;Arts & Entertainment...  \n",
       "6782    Las Vegas    4.0  Breakfast & Brunch;Venues & Event Spaces;Event...  \n",
       "10567   Las Vegas    3.0  Restaurants;Arts & Entertainment;Hotels;Event ...  \n",
       "169223  Las Vegas    3.5                           Hotels & Travel;Airports  \n",
       "170798  Las Vegas    4.5  Asian Fusion;Restaurants;Barbeque;Korean;Tapas...  \n",
       "112523  Las Vegas    4.0  Casinos;Hotels;Resorts;Arts & Entertainment;Ev...  \n",
       "116002  Las Vegas    4.0  American (New);Bars;Beer;Wine & Spirits;Restau...  \n",
       "50087   Las Vegas    4.0      Restaurants;Breakfast & Brunch;American (New)  \n",
       "43069   Las Vegas    4.0  New Mexican Cuisine;Mexican;Restaurants;Southe...  \n",
       "106267  Las Vegas    2.5  Arts & Entertainment;Event Planning & Services...  \n",
       "138776  Las Vegas    4.0  Salad;Restaurants;Soup;American (New);Steakhouses  \n",
       "60845   Las Vegas    4.0                              Nightlife;Dance Clubs  \n",
       "126918  Las Vegas    3.5  Hotels;Arts & Entertainment;Hotels & Travel;Ev...  \n",
       "124334  Las Vegas    4.0  American (Traditional);Burgers;Bars;Restaurant...  \n",
       "24586   Las Vegas    4.0  Bars;American (Traditional);Lounges;Nightlife;...  \n",
       "69105   Las Vegas    3.5  Casinos;Hotels;Hotels & Travel;Resorts;Arts & ...  \n",
       "8709    Las Vegas    3.0  Hotels;Casinos;Event Planning & Services;Hotel...  \n",
       "36120   Las Vegas    3.5  American (New);Burgers;Restaurants;Pubs;Nightl...  \n",
       "128975  Las Vegas    4.5  Restaurants;Burgers;American (Traditional);San...  \n",
       "166920  Las Vegas    3.5                     Vietnamese;Chinese;Restaurants  \n",
       "27862   Las Vegas    4.0                 Burgers;American (New);Restaurants  \n",
       "2803    Las Vegas    2.5  Resorts;Hotels & Travel;Event Planning & Servi...  \n",
       "800     Las Vegas    2.5  Hotels;Event Planning & Services;Casinos;Resor...  \n",
       "118712  Las Vegas    3.5  Gastropubs;Fish & Chips;Nightlife;Restaurants;...  \n",
       "108433  Las Vegas    4.0  Desserts;American (New);Sandwiches;American (T...  \n",
       "100272  Las Vegas    4.0                          Mexican;Tacos;Restaurants  \n",
       "154617  Las Vegas    4.0  Casinos;Event Planning & Services;Nightlife;Re...  \n",
       "161630  Las Vegas    4.0  Bars;American (Traditional);Burgers;American (...  \n",
       "155142  Las Vegas    3.0  Casinos;Arts & Entertainment;Hotels & Travel;H...  \n",
       "73007   Las Vegas    4.5                Restaurants;American (New);Southern  \n",
       "5068    Las Vegas    3.5                                Italian;Restaurants  \n",
       "89974   Las Vegas    4.5             Restaurants;Soul Food;Burgers;Barbeque  \n",
       "13125   Las Vegas    4.0  Beauty & Spas;Hotels;Resorts;Hotels & Travel;E...  \n",
       "20329   Las Vegas    4.0                 Restaurants;Noodles;Ramen;Japanese  \n",
       "73708   Las Vegas    4.0  Event Planning & Services;Venues & Event Space...  \n",
       "102148  Las Vegas    3.0  Arts & Entertainment;Hotels;Casinos;Hotels & T...  \n",
       "4137      Phoenix    3.0                           Hotels & Travel;Airports  "
      ]
     },
     "execution_count": 14,
     "metadata": {},
     "output_type": "execute_result"
    }
   ],
   "source": [
    "businessDataFrame[['name', 'review_count', 'city', 'stars','categories']].sort_values(ascending=False, by=\"review_count\")[0:50]"
   ]
  },
  {
   "cell_type": "markdown",
   "metadata": {},
   "source": [
    "### Cities playing majority role in making business:"
   ]
  },
  {
   "cell_type": "code",
   "execution_count": 15,
   "metadata": {},
   "outputs": [],
   "source": [
    "city_business_counts = business[['city', 'business_id']].groupby(['city'])\\\n",
    "['business_id'].agg('count').sort_values(ascending=False)"
   ]
  },
  {
   "cell_type": "code",
   "execution_count": 16,
   "metadata": {},
   "outputs": [],
   "source": [
    "city_business_counts = pd.DataFrame(data=city_business_counts)"
   ]
  },
  {
   "cell_type": "code",
   "execution_count": 17,
   "metadata": {},
   "outputs": [],
   "source": [
    "city_business_counts.rename(columns={'business_id' : 'number_of_businesses'}, inplace=True)"
   ]
  },
  {
   "cell_type": "code",
   "execution_count": 18,
   "metadata": {},
   "outputs": [
    {
     "data": {
      "text/plain": [
       "Text(0,0.5,'Cities')"
      ]
     },
     "execution_count": 18,
     "metadata": {},
     "output_type": "execute_result"
    },
    {
     "data": {
      "image/png": "[encoded data removed]",
      "text/plain": [
       "<matplotlib.figure.Figure at 0x28743621048>"
      ]
     },
     "metadata": {},
     "output_type": "display_data"
    }
   ],
   "source": [
    "city_business_counts[0:50].sort_values(ascending=False, by=\"number_of_businesses\")\\\n",
    ".plot(kind='barh', stacked=False, figsize=[10,10], colormap='summer')\n",
    "plt.title('Top 50 cities by businesses listed')#Giving the plot a main title\n",
    "plt.xlabel('Number of Businesses')#Giving the x-axis a title\n",
    "plt.ylabel('Cities')#Giving the y-axis a title"
   ]
  },
  {
   "cell_type": "markdown",
   "metadata": {},
   "source": [
    "### Cities with highest reviews and best ratings for their businesses"
   ]
  },
  {
   "cell_type": "code",
   "execution_count": 19,
   "metadata": {},
   "outputs": [
    {
     "data": {
      "text/html": [
       "<div>\n",
       "<style scoped>\n",
       "    .dataframe tbody tr th:only-of-type {\n",
       "        vertical-align: middle;\n",
       "    }\n",
       "\n",
       "    .dataframe tbody tr th {\n",
       "        vertical-align: top;\n",
       "    }\n",
       "\n",
       "    .dataframe thead th {\n",
       "        text-align: right;\n",
       "    }\n",
       "</style>\n",
       "<table border=\"1\" class=\"dataframe\">\n",
       "  <thead>\n",
       "    <tr style=\"text-align: right;\">\n",
       "      <th></th>\n",
       "      <th>review_count</th>\n",
       "      <th>stars</th>\n",
       "    </tr>\n",
       "    <tr>\n",
       "      <th>city</th>\n",
       "      <th></th>\n",
       "      <th></th>\n",
       "    </tr>\n",
       "  </thead>\n",
       "  <tbody>\n",
       "    <tr>\n",
       "      <th>Las Vegas</th>\n",
       "      <td>1604173</td>\n",
       "      <td>3.709916</td>\n",
       "    </tr>\n",
       "    <tr>\n",
       "      <th>Phoenix</th>\n",
       "      <td>576709</td>\n",
       "      <td>3.673793</td>\n",
       "    </tr>\n",
       "    <tr>\n",
       "      <th>Toronto</th>\n",
       "      <td>430923</td>\n",
       "      <td>3.487272</td>\n",
       "    </tr>\n",
       "    <tr>\n",
       "      <th>Scottsdale</th>\n",
       "      <td>308529</td>\n",
       "      <td>3.948529</td>\n",
       "    </tr>\n",
       "    <tr>\n",
       "      <th>Charlotte</th>\n",
       "      <td>237115</td>\n",
       "      <td>3.571554</td>\n",
       "    </tr>\n",
       "    <tr>\n",
       "      <th>Pittsburgh</th>\n",
       "      <td>179471</td>\n",
       "      <td>3.629819</td>\n",
       "    </tr>\n",
       "    <tr>\n",
       "      <th>Henderson</th>\n",
       "      <td>166884</td>\n",
       "      <td>3.789362</td>\n",
       "    </tr>\n",
       "    <tr>\n",
       "      <th>Tempe</th>\n",
       "      <td>162772</td>\n",
       "      <td>3.729885</td>\n",
       "    </tr>\n",
       "    <tr>\n",
       "      <th>Mesa</th>\n",
       "      <td>130883</td>\n",
       "      <td>3.636024</td>\n",
       "    </tr>\n",
       "    <tr>\n",
       "      <th>Montréal</th>\n",
       "      <td>122620</td>\n",
       "      <td>3.706604</td>\n",
       "    </tr>\n",
       "  </tbody>\n",
       "</table>\n",
       "</div>"
      ],
      "text/plain": [
       "            review_count     stars\n",
       "city                              \n",
       "Las Vegas        1604173  3.709916\n",
       "Phoenix           576709  3.673793\n",
       "Toronto           430923  3.487272\n",
       "Scottsdale        308529  3.948529\n",
       "Charlotte         237115  3.571554\n",
       "Pittsburgh        179471  3.629819\n",
       "Henderson         166884  3.789362\n",
       "Tempe             162772  3.729885\n",
       "Mesa              130883  3.636024\n",
       "Montréal          122620  3.706604"
      ]
     },
     "execution_count": 19,
     "metadata": {},
     "output_type": "execute_result"
    }
   ],
   "source": [
    "city_business_reviews = business[['city', 'review_count', 'stars']].groupby(['city']).\\\n",
    "agg({'review_count': 'sum', 'stars': 'mean'}).sort_values(by='review_count', ascending=False)\n",
    "city_business_reviews.head(10) "
   ]
  },
  {
   "cell_type": "code",
   "execution_count": 20,
   "metadata": {},
   "outputs": [
    {
     "data": {
      "text/plain": [
       "Text(0,0.5,'Cities')"
      ]
     },
     "execution_count": 20,
     "metadata": {},
     "output_type": "execute_result"
    },
    {
     "data": {
      "image/png": "[encoded data removed]",
      "text/plain": [
       "<matplotlib.figure.Figure at 0x2874287eb00>"
      ]
     },
     "metadata": {},
     "output_type": "display_data"
    }
   ],
   "source": [
    "city_business_reviews['review_count'][0:20].plot(kind='barh', stacked=False, figsize=[10,10], \\\n",
    "                                                 colormap='summer')\n",
    "plt.title('Top 20 cities by reviews') #Giving main title for the graph\n",
    "plt.xlabel('Number of best reviews') #Giving title for x-axis\n",
    "plt.ylabel('Cities') #Giving title for y-axis"
   ]
  },
  {
   "cell_type": "markdown",
   "metadata": {},
   "source": [
    "### Cities with greater than 50k reviews ranked by average stars"
   ]
  },
  {
   "cell_type": "code",
   "execution_count": 21,
   "metadata": {},
   "outputs": [
    {
     "data": {
      "text/plain": [
       "Text(0.5,1,'Cities with greater than 50k reviews ranked by average stars')"
      ]
     },
     "execution_count": 21,
     "metadata": {},
     "output_type": "execute_result"
    },
    {
     "data": {
      "image/png": "[encoded data removed]",
      "text/plain": [
       "<matplotlib.figure.Figure at 0x287429737f0>"
      ]
     },
     "metadata": {},
     "output_type": "display_data"
    }
   ],
   "source": [
    "city_business_reviews[city_business_reviews.review_count > 50000]['stars'].sort_values()\\\n",
    ".plot(kind='barh', stacked=False, figsize=[10,10], colormap='summer')\n",
    "plt.title('Cities with greater than 50k reviews ranked by average stars')"
   ]
  },
  {
   "cell_type": "markdown",
   "metadata": {},
   "source": [
    "### Distribution of Stars(Ratings)"
   ]
  },
  {
   "cell_type": "code",
   "execution_count": 22,
   "metadata": {},
   "outputs": [
    {
     "data": {
      "text/plain": [
       "4.0    33492\n",
       "3.5    32038\n",
       "5.0    27540\n",
       "4.5    24796\n",
       "3.0    23142\n",
       "2.5    16148\n",
       "2.0     9320\n",
       "1.5     4303\n",
       "1.0     3788\n",
       "Name: stars, dtype: int64"
      ]
     },
     "execution_count": 22,
     "metadata": {},
     "output_type": "execute_result"
    }
   ],
   "source": [
    "business['stars'].value_counts()"
   ]
  },
  {
   "cell_type": "code",
   "execution_count": 23,
   "metadata": {},
   "outputs": [
    {
     "data": {
      "text/plain": [
       "Text(0,0.5,'Number of reviews')"
      ]
     },
     "execution_count": 23,
     "metadata": {},
     "output_type": "execute_result"
    },
    {
     "data": {
      "image/png": "[encoded data removed]",
      "text/plain": [
       "<matplotlib.figure.Figure at 0x28742889c50>"
      ]
     },
     "metadata": {},
     "output_type": "display_data"
    }
   ],
   "source": [
    "sns.distplot(business.stars, kde=False)\n",
    "plt.xlabel('Ratings')\n",
    "plt.ylabel('Number of reviews')"
   ]
  },
  {
   "cell_type": "markdown",
   "metadata": {},
   "source": [
    "### Open and closed businesses:"
   ]
  },
  {
   "cell_type": "code",
   "execution_count": 27,
   "metadata": {},
   "outputs": [
    {
     "data": {
      "text/plain": [
       "1    146702\n",
       "0     27865\n",
       "Name: is_open, dtype: int64"
      ]
     },
     "execution_count": 27,
     "metadata": {},
     "output_type": "execute_result"
    }
   ],
   "source": [
    "business['is_open'].value_counts()"
   ]
  }
 ],
 "metadata": {
  "kernelspec": {
   "display_name": "Python 3",
   "language": "python",
   "name": "python3"
  },
  "language_info": {
   "codemirror_mode": {
    "name": "ipython",
    "version": 3
   },
   "file_extension": ".py",
   "mimetype": "text/x-python",
   "name": "python",
   "nbconvert_exporter": "python",
   "pygments_lexer": "ipython3",
   "version": "3.6.4"
  }
 },
 "nbformat": 4,
 "nbformat_minor": 2
}
