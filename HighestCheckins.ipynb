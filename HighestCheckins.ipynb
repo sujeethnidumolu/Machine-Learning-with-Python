{
 "cells": [
  {
   "cell_type": "markdown",
   "metadata": {},
   "source": [
    "<h1><font color=#000066\t> Advanced Systems Project: Data Analysis on YELP application reviews. </font></h1>\n",
    "\n",
    "<br/><i>Analysis performed by: Sujeeth Nidumolu \n",
    "<br>Student ID: 700372902</br>\n",
    "<br>Under the supervision of Dr. Someswar Kesh</br>\n",
    "<br>Term: Fall-2018</br>\n",
    "<br>Computer Information Systems - University of Central Missouri</br></i>\n",
    "\n",
    "<body><br/>Yelp is a trending application designed for the users to publish and read the reviews of local businesses such as restaurants, saloons, automobiles workshops etc. Also, it provides online reservations through Yelp reservations. With the broad range online services generating huge data day to day. \n",
    "The goal is to analyze this unorganized data, design a system to generate insights from the Yelp data which could help the entrepreneurs to study the progress of the business and take wise decisions towards betterment of the business. With the Yelp’s data, the primary task is to derive insights from various reviews from customers, data being acquired from various places across USA."
   ]
  },
  {
   "cell_type": "markdown",
   "metadata": {},
   "source": [
    "### Determining the day and time in a week receiving highest number of check-ins."
   ]
  },
  {
   "cell_type": "markdown",
   "metadata": {},
   "source": [
    "Importing the packages and reading the \"yelp_checkin\" dataset."
   ]
  },
  {
   "cell_type": "code",
   "execution_count": 1,
   "metadata": {},
   "outputs": [],
   "source": [
    "import pandas as pd\n",
    "from sklearn import preprocessing\n",
    "import sklearn.model_selection as ms\n",
    "from sklearn import linear_model\n",
    "import sklearn.metrics as sklm\n",
    "import numpy as np\n",
    "import numpy.random as nr\n",
    "import matplotlib.pyplot as plt\n",
    "import seaborn as sns\n",
    "import scipy.stats as ss\n",
    "import math\n",
    "\n",
    "%matplotlib inline"
   ]
  },
  {
   "cell_type": "code",
   "execution_count": 2,
   "metadata": {},
   "outputs": [],
   "source": [
    "checkins = pd.read_csv('yelp_checkin.csv') #Reading 'yelp_checkin.csv' dataset"
   ]
  },
  {
   "cell_type": "code",
   "execution_count": 3,
   "metadata": {},
   "outputs": [],
   "source": [
    "checkinsdf = pd.DataFrame(checkins) #Feeding the data into a dataframe"
   ]
  },
  {
   "cell_type": "code",
   "execution_count": 4,
   "metadata": {},
   "outputs": [
    {
     "data": {
      "text/plain": [
       "Index(['business_id', 'weekday', 'hour', 'checkins'], dtype='object')"
      ]
     },
     "execution_count": 4,
     "metadata": {},
     "output_type": "execute_result"
    }
   ],
   "source": [
    "checkinsdf.columns #Displays the columns in the table"
   ]
  },
  {
   "cell_type": "code",
   "execution_count": 5,
   "metadata": {},
   "outputs": [
    {
     "data": {
      "text/html": [
       "<div>\n",
       "<style scoped>\n",
       "    .dataframe tbody tr th:only-of-type {\n",
       "        vertical-align: middle;\n",
       "    }\n",
       "\n",
       "    .dataframe tbody tr th {\n",
       "        vertical-align: top;\n",
       "    }\n",
       "\n",
       "    .dataframe thead th {\n",
       "        text-align: right;\n",
       "    }\n",
       "</style>\n",
       "<table border=\"1\" class=\"dataframe\">\n",
       "  <thead>\n",
       "    <tr style=\"text-align: right;\">\n",
       "      <th></th>\n",
       "      <th>business_id</th>\n",
       "      <th>weekday</th>\n",
       "      <th>hour</th>\n",
       "      <th>checkins</th>\n",
       "    </tr>\n",
       "  </thead>\n",
       "  <tbody>\n",
       "    <tr>\n",
       "      <th>0</th>\n",
       "      <td>3Mc-LxcqeguOXOVT_2ZtCg</td>\n",
       "      <td>Tue</td>\n",
       "      <td>0:00</td>\n",
       "      <td>12</td>\n",
       "    </tr>\n",
       "    <tr>\n",
       "      <th>1</th>\n",
       "      <td>SVFx6_epO22bZTZnKwlX7g</td>\n",
       "      <td>Wed</td>\n",
       "      <td>0:00</td>\n",
       "      <td>4</td>\n",
       "    </tr>\n",
       "    <tr>\n",
       "      <th>2</th>\n",
       "      <td>vW9aLivd4-IorAfStzsHww</td>\n",
       "      <td>Tue</td>\n",
       "      <td>14:00</td>\n",
       "      <td>1</td>\n",
       "    </tr>\n",
       "    <tr>\n",
       "      <th>3</th>\n",
       "      <td>tEzxhauTQddACyqdJ0OPEQ</td>\n",
       "      <td>Fri</td>\n",
       "      <td>19:00</td>\n",
       "      <td>1</td>\n",
       "    </tr>\n",
       "    <tr>\n",
       "      <th>4</th>\n",
       "      <td>CEyZU32P-vtMhgqRCaXzMA</td>\n",
       "      <td>Tue</td>\n",
       "      <td>17:00</td>\n",
       "      <td>1</td>\n",
       "    </tr>\n",
       "  </tbody>\n",
       "</table>\n",
       "</div>"
      ],
      "text/plain": [
       "              business_id weekday   hour  checkins\n",
       "0  3Mc-LxcqeguOXOVT_2ZtCg     Tue   0:00        12\n",
       "1  SVFx6_epO22bZTZnKwlX7g     Wed   0:00         4\n",
       "2  vW9aLivd4-IorAfStzsHww     Tue  14:00         1\n",
       "3  tEzxhauTQddACyqdJ0OPEQ     Fri  19:00         1\n",
       "4  CEyZU32P-vtMhgqRCaXzMA     Tue  17:00         1"
      ]
     },
     "execution_count": 5,
     "metadata": {},
     "output_type": "execute_result"
    }
   ],
   "source": [
    "checkinsdf.head()"
   ]
  },
  {
   "cell_type": "code",
   "execution_count": 6,
   "metadata": {},
   "outputs": [
    {
     "data": {
      "text/plain": [
       "business_id    False\n",
       "weekday        False\n",
       "hour           False\n",
       "checkins       False\n",
       "dtype: bool"
      ]
     },
     "execution_count": 6,
     "metadata": {},
     "output_type": "execute_result"
    }
   ],
   "source": [
    "(checkinsdf.astype(np.object) == '?').any() #Checking for null/empty values if any in the table"
   ]
  },
  {
   "cell_type": "markdown",
   "metadata": {},
   "source": [
    "Cool! No null values, we can now proceed with the analysis using the existing data."
   ]
  },
  {
   "cell_type": "markdown",
   "metadata": {},
   "source": [
    "Now, let us see which weekday has received highest number of checkins, the cell below displays the day with checkins"
   ]
  },
  {
   "cell_type": "code",
   "execution_count": 7,
   "metadata": {},
   "outputs": [],
   "source": [
    "highestcheckinsday = checkinsdf[['weekday', 'checkins']].groupby('weekday').count()"
   ]
  },
  {
   "cell_type": "code",
   "execution_count": 8,
   "metadata": {},
   "outputs": [
    {
     "name": "stdout",
     "output_type": "stream",
     "text": [
      "         checkins\n",
      "weekday          \n",
      "Fri        584790\n",
      "Mon        500373\n",
      "Sat        653551\n",
      "Sun        567181\n",
      "Thu        545489\n",
      "Tue        522104\n",
      "Wed        537730\n"
     ]
    }
   ],
   "source": [
    "print(highestcheckinsday)"
   ]
  },
  {
   "cell_type": "code",
   "execution_count": 9,
   "metadata": {},
   "outputs": [
    {
     "data": {
      "text/html": [
       "<div>\n",
       "<style scoped>\n",
       "    .dataframe tbody tr th:only-of-type {\n",
       "        vertical-align: middle;\n",
       "    }\n",
       "\n",
       "    .dataframe tbody tr th {\n",
       "        vertical-align: top;\n",
       "    }\n",
       "\n",
       "    .dataframe thead th {\n",
       "        text-align: right;\n",
       "    }\n",
       "</style>\n",
       "<table border=\"1\" class=\"dataframe\">\n",
       "  <thead>\n",
       "    <tr style=\"text-align: right;\">\n",
       "      <th></th>\n",
       "      <th>checkins</th>\n",
       "    </tr>\n",
       "    <tr>\n",
       "      <th>weekday</th>\n",
       "      <th></th>\n",
       "    </tr>\n",
       "  </thead>\n",
       "  <tbody>\n",
       "    <tr>\n",
       "      <th>Sat</th>\n",
       "      <td>653551</td>\n",
       "    </tr>\n",
       "    <tr>\n",
       "      <th>Fri</th>\n",
       "      <td>584790</td>\n",
       "    </tr>\n",
       "    <tr>\n",
       "      <th>Sun</th>\n",
       "      <td>567181</td>\n",
       "    </tr>\n",
       "    <tr>\n",
       "      <th>Thu</th>\n",
       "      <td>545489</td>\n",
       "    </tr>\n",
       "    <tr>\n",
       "      <th>Wed</th>\n",
       "      <td>537730</td>\n",
       "    </tr>\n",
       "    <tr>\n",
       "      <th>Tue</th>\n",
       "      <td>522104</td>\n",
       "    </tr>\n",
       "    <tr>\n",
       "      <th>Mon</th>\n",
       "      <td>500373</td>\n",
       "    </tr>\n",
       "  </tbody>\n",
       "</table>\n",
       "</div>"
      ],
      "text/plain": [
       "         checkins\n",
       "weekday          \n",
       "Sat        653551\n",
       "Fri        584790\n",
       "Sun        567181\n",
       "Thu        545489\n",
       "Wed        537730\n",
       "Tue        522104\n",
       "Mon        500373"
      ]
     },
     "execution_count": 9,
     "metadata": {},
     "output_type": "execute_result"
    }
   ],
   "source": [
    "highestcheckinsday.sort_values('checkins', ascending=False) #Sorting the column in descending order"
   ]
  },
  {
   "cell_type": "code",
   "execution_count": 10,
   "metadata": {},
   "outputs": [
    {
     "data": {
      "text/plain": [
       "Text(0,0.5,'Number of checkins')"
      ]
     },
     "execution_count": 10,
     "metadata": {},
     "output_type": "execute_result"
    },
    {
     "data": {
      "image/png": "[encoded data removed]",
      "text/plain": [
       "<matplotlib.figure.Figure at 0x214c31bcb70>"
      ]
     },
     "metadata": {},
     "output_type": "display_data"
    }
   ],
   "source": [
    "highestcheckinsday.plot(kind='bar', stacked=False, figsize=[10,10], \\\n",
    "                                                 colormap='summer')\n",
    "plt.title('Weekday with highest checkins') #Giving main title for the graph\n",
    "plt.xlabel('Weekday') #Giving title for x-axis\n",
    "plt.ylabel('Number of checkins') #Giving title for y-axis"
   ]
  },
  {
   "cell_type": "markdown",
   "metadata": {},
   "source": [
    "###### It can depicted from the above stats that \"Saturday\" has recorded highest number of checkins."
   ]
  },
  {
   "cell_type": "markdown",
   "metadata": {},
   "source": [
    "Since we know that \"Saturday\" has highest number of checkins, let us find the hours in Saturday with highest number of checkins."
   ]
  },
  {
   "cell_type": "code",
   "execution_count": 11,
   "metadata": {},
   "outputs": [],
   "source": [
    "highest_checkins_sat = checkins[checkins.weekday == 'Sat'] #Selects all the cells in the table with the weekday as \"Saturday\""
   ]
  },
  {
   "cell_type": "code",
   "execution_count": 12,
   "metadata": {},
   "outputs": [
    {
     "data": {
      "text/html": [
       "<div>\n",
       "<style scoped>\n",
       "    .dataframe tbody tr th:only-of-type {\n",
       "        vertical-align: middle;\n",
       "    }\n",
       "\n",
       "    .dataframe tbody tr th {\n",
       "        vertical-align: top;\n",
       "    }\n",
       "\n",
       "    .dataframe thead th {\n",
       "        text-align: right;\n",
       "    }\n",
       "</style>\n",
       "<table border=\"1\" class=\"dataframe\">\n",
       "  <thead>\n",
       "    <tr style=\"text-align: right;\">\n",
       "      <th></th>\n",
       "      <th>business_id</th>\n",
       "      <th>weekday</th>\n",
       "      <th>hour</th>\n",
       "      <th>checkins</th>\n",
       "    </tr>\n",
       "  </thead>\n",
       "  <tbody>\n",
       "    <tr>\n",
       "      <th>7</th>\n",
       "      <td>OE_IDW5w_W97sBcZvq2Img</td>\n",
       "      <td>Sat</td>\n",
       "      <td>1:00</td>\n",
       "      <td>1</td>\n",
       "    </tr>\n",
       "    <tr>\n",
       "      <th>8</th>\n",
       "      <td>gy5pr5bFAjOL5rERSdMCLg</td>\n",
       "      <td>Sat</td>\n",
       "      <td>15:00</td>\n",
       "      <td>1</td>\n",
       "    </tr>\n",
       "    <tr>\n",
       "      <th>11</th>\n",
       "      <td>08jURVR_eDvXq9scdIgcmg</td>\n",
       "      <td>Sat</td>\n",
       "      <td>23:00</td>\n",
       "      <td>1</td>\n",
       "    </tr>\n",
       "    <tr>\n",
       "      <th>32</th>\n",
       "      <td>uhroo5AV1dcCHpI6ZQIj8w</td>\n",
       "      <td>Sat</td>\n",
       "      <td>23:00</td>\n",
       "      <td>1</td>\n",
       "    </tr>\n",
       "    <tr>\n",
       "      <th>39</th>\n",
       "      <td>9dIelLhFGhk49JVW1AHD7Q</td>\n",
       "      <td>Sat</td>\n",
       "      <td>14:00</td>\n",
       "      <td>1</td>\n",
       "    </tr>\n",
       "  </tbody>\n",
       "</table>\n",
       "</div>"
      ],
      "text/plain": [
       "               business_id weekday   hour  checkins\n",
       "7   OE_IDW5w_W97sBcZvq2Img     Sat   1:00         1\n",
       "8   gy5pr5bFAjOL5rERSdMCLg     Sat  15:00         1\n",
       "11  08jURVR_eDvXq9scdIgcmg     Sat  23:00         1\n",
       "32  uhroo5AV1dcCHpI6ZQIj8w     Sat  23:00         1\n",
       "39  9dIelLhFGhk49JVW1AHD7Q     Sat  14:00         1"
      ]
     },
     "execution_count": 12,
     "metadata": {},
     "output_type": "execute_result"
    }
   ],
   "source": [
    "highest_checkins_sat.head()"
   ]
  },
  {
   "cell_type": "code",
   "execution_count": 13,
   "metadata": {},
   "outputs": [],
   "source": [
    "highest_checkins_sat_time = highest_checkins_sat[['hour', 'checkins']]"
   ]
  },
  {
   "cell_type": "code",
   "execution_count": 14,
   "metadata": {},
   "outputs": [],
   "source": [
    "highest_checkins_sat_time = highest_checkins_sat_time.groupby('hour').count().sort_values('checkins', ascending=False)"
   ]
  },
  {
   "cell_type": "code",
   "execution_count": 15,
   "metadata": {},
   "outputs": [
    {
     "data": {
      "text/html": [
       "<div>\n",
       "<style scoped>\n",
       "    .dataframe tbody tr th:only-of-type {\n",
       "        vertical-align: middle;\n",
       "    }\n",
       "\n",
       "    .dataframe tbody tr th {\n",
       "        vertical-align: top;\n",
       "    }\n",
       "\n",
       "    .dataframe thead th {\n",
       "        text-align: right;\n",
       "    }\n",
       "</style>\n",
       "<table border=\"1\" class=\"dataframe\">\n",
       "  <thead>\n",
       "    <tr style=\"text-align: right;\">\n",
       "      <th></th>\n",
       "      <th>checkins</th>\n",
       "    </tr>\n",
       "    <tr>\n",
       "      <th>hour</th>\n",
       "      <th></th>\n",
       "    </tr>\n",
       "  </thead>\n",
       "  <tbody>\n",
       "    <tr>\n",
       "      <th>19:00</th>\n",
       "      <td>47879</td>\n",
       "    </tr>\n",
       "    <tr>\n",
       "      <th>18:00</th>\n",
       "      <td>47552</td>\n",
       "    </tr>\n",
       "    <tr>\n",
       "      <th>20:00</th>\n",
       "      <td>46643</td>\n",
       "    </tr>\n",
       "    <tr>\n",
       "      <th>21:00</th>\n",
       "      <td>46320</td>\n",
       "    </tr>\n",
       "    <tr>\n",
       "      <th>22:00</th>\n",
       "      <td>45228</td>\n",
       "    </tr>\n",
       "    <tr>\n",
       "      <th>23:00</th>\n",
       "      <td>43927</td>\n",
       "    </tr>\n",
       "    <tr>\n",
       "      <th>0:00</th>\n",
       "      <td>43657</td>\n",
       "    </tr>\n",
       "    <tr>\n",
       "      <th>17:00</th>\n",
       "      <td>43371</td>\n",
       "    </tr>\n",
       "    <tr>\n",
       "      <th>1:00</th>\n",
       "      <td>39365</td>\n",
       "    </tr>\n",
       "    <tr>\n",
       "      <th>16:00</th>\n",
       "      <td>37008</td>\n",
       "    </tr>\n",
       "    <tr>\n",
       "      <th>2:00</th>\n",
       "      <td>33538</td>\n",
       "    </tr>\n",
       "    <tr>\n",
       "      <th>15:00</th>\n",
       "      <td>28761</td>\n",
       "    </tr>\n",
       "    <tr>\n",
       "      <th>3:00</th>\n",
       "      <td>27435</td>\n",
       "    </tr>\n",
       "    <tr>\n",
       "      <th>4:00</th>\n",
       "      <td>21599</td>\n",
       "    </tr>\n",
       "    <tr>\n",
       "      <th>14:00</th>\n",
       "      <td>20323</td>\n",
       "    </tr>\n",
       "    <tr>\n",
       "      <th>5:00</th>\n",
       "      <td>15958</td>\n",
       "    </tr>\n",
       "    <tr>\n",
       "      <th>13:00</th>\n",
       "      <td>13887</td>\n",
       "    </tr>\n",
       "    <tr>\n",
       "      <th>6:00</th>\n",
       "      <td>11422</td>\n",
       "    </tr>\n",
       "    <tr>\n",
       "      <th>7:00</th>\n",
       "      <td>8856</td>\n",
       "    </tr>\n",
       "    <tr>\n",
       "      <th>12:00</th>\n",
       "      <td>8826</td>\n",
       "    </tr>\n",
       "    <tr>\n",
       "      <th>8:00</th>\n",
       "      <td>6592</td>\n",
       "    </tr>\n",
       "    <tr>\n",
       "      <th>11:00</th>\n",
       "      <td>5785</td>\n",
       "    </tr>\n",
       "    <tr>\n",
       "      <th>9:00</th>\n",
       "      <td>5024</td>\n",
       "    </tr>\n",
       "    <tr>\n",
       "      <th>10:00</th>\n",
       "      <td>4595</td>\n",
       "    </tr>\n",
       "  </tbody>\n",
       "</table>\n",
       "</div>"
      ],
      "text/plain": [
       "       checkins\n",
       "hour           \n",
       "19:00     47879\n",
       "18:00     47552\n",
       "20:00     46643\n",
       "21:00     46320\n",
       "22:00     45228\n",
       "23:00     43927\n",
       "0:00      43657\n",
       "17:00     43371\n",
       "1:00      39365\n",
       "16:00     37008\n",
       "2:00      33538\n",
       "15:00     28761\n",
       "3:00      27435\n",
       "4:00      21599\n",
       "14:00     20323\n",
       "5:00      15958\n",
       "13:00     13887\n",
       "6:00      11422\n",
       "7:00       8856\n",
       "12:00      8826\n",
       "8:00       6592\n",
       "11:00      5785\n",
       "9:00       5024\n",
       "10:00      4595"
      ]
     },
     "execution_count": 15,
     "metadata": {},
     "output_type": "execute_result"
    }
   ],
   "source": [
    "highest_checkins_sat_time"
   ]
  },
  {
   "cell_type": "code",
   "execution_count": 18,
   "metadata": {},
   "outputs": [
    {
     "data": {
      "text/plain": [
       "Text(0,0.5,'Number of checkins')"
      ]
     },
     "execution_count": 18,
     "metadata": {},
     "output_type": "execute_result"
    },
    {
     "data": {
      "image/png": "[encoded data removed]",
      "text/plain": [
       "<matplotlib.figure.Figure at 0x214b1a845c0>"
      ]
     },
     "metadata": {},
     "output_type": "display_data"
    }
   ],
   "source": [
    "highest_checkins_sat_time[0:15].plot(kind='bar', stacked=False, figsize=[10,10], \\\n",
    "                                                 colormap='summer')\n",
    "plt.title('Hours with highest checkins on Saturdays') #Giving main title for the graph\n",
    "plt.xlabel('Time/Hours') #Giving title for x-axis\n",
    "plt.ylabel('Number of checkins') #Giving title for y-axis"
   ]
  },
  {
   "cell_type": "markdown",
   "metadata": {},
   "source": [
    "###### As depicted from the above stats, during 19:00hrs highest number of checkins were recorded."
   ]
  },
  {
   "cell_type": "markdown",
   "metadata": {},
   "source": [
    "#### Conclusion:"
   ]
  },
  {
   "cell_type": "markdown",
   "metadata": {},
   "source": [
    "On Saturdays, from 18:00 to 23:00 hrs recorded highest checkins in which 19:00hrs has the maximum check-ins in a week. Hence, this can help the business owners to allocate additional staff during these hours expecting the rush."
   ]
  }
 ],
 "metadata": {
  "kernelspec": {
   "display_name": "Python 3",
   "language": "python",
   "name": "python3"
  },
  "language_info": {
   "codemirror_mode": {
    "name": "ipython",
    "version": 3
   },
   "file_extension": ".py",
   "mimetype": "text/x-python",
   "name": "python",
   "nbconvert_exporter": "python",
   "pygments_lexer": "ipython3",
   "version": "3.6.4"
  }
 },
 "nbformat": 4,
 "nbformat_minor": 2
}
